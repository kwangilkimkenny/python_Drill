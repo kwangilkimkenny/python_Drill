{
 "cells": [
  {
   "cell_type": "code",
   "execution_count": 1,
   "metadata": {},
   "outputs": [],
   "source": [
    "a = {1,2,3,4,4,4,4,5,6}"
   ]
  },
  {
   "cell_type": "code",
   "execution_count": 2,
   "metadata": {},
   "outputs": [
    {
     "data": {
      "text/plain": [
       "{1, 2, 3, 4, 5, 6}"
      ]
     },
     "execution_count": 2,
     "metadata": {},
     "output_type": "execute_result"
    }
   ],
   "source": [
    "a"
   ]
  },
  {
   "cell_type": "code",
   "execution_count": 4,
   "metadata": {},
   "outputs": [
    {
     "data": {
      "text/plain": [
       "set"
      ]
     },
     "execution_count": 4,
     "metadata": {},
     "output_type": "execute_result"
    }
   ],
   "source": [
    "type(a)"
   ]
  },
  {
   "cell_type": "code",
   "execution_count": 5,
   "metadata": {},
   "outputs": [],
   "source": [
    "b ={2,3,4,5,6}"
   ]
  },
  {
   "cell_type": "code",
   "execution_count": 6,
   "metadata": {},
   "outputs": [
    {
     "data": {
      "text/plain": [
       "{2, 3, 4, 5, 6}"
      ]
     },
     "execution_count": 6,
     "metadata": {},
     "output_type": "execute_result"
    }
   ],
   "source": [
    "b\n"
   ]
  },
  {
   "cell_type": "code",
   "execution_count": 7,
   "metadata": {},
   "outputs": [
    {
     "data": {
      "text/plain": [
       "{1}"
      ]
     },
     "execution_count": 7,
     "metadata": {},
     "output_type": "execute_result"
    }
   ],
   "source": [
    "a-b"
   ]
  },
  {
   "cell_type": "code",
   "execution_count": 8,
   "metadata": {},
   "outputs": [
    {
     "data": {
      "text/plain": [
       "{2, 3, 4, 5, 6}"
      ]
     },
     "execution_count": 8,
     "metadata": {},
     "output_type": "execute_result"
    }
   ],
   "source": [
    "a&b"
   ]
  },
  {
   "cell_type": "code",
   "execution_count": 9,
   "metadata": {},
   "outputs": [
    {
     "ename": "TypeError",
     "evalue": "unsupported operand type(s) for +: 'set' and 'set'",
     "output_type": "error",
     "traceback": [
      "\u001b[1;31m---------------------------------------------------------------------------\u001b[0m",
      "\u001b[1;31mTypeError\u001b[0m                                 Traceback (most recent call last)",
      "\u001b[1;32m<ipython-input-9-ca730b97bf8a>\u001b[0m in \u001b[0;36m<module>\u001b[1;34m\u001b[0m\n\u001b[1;32m----> 1\u001b[1;33m \u001b[0ma\u001b[0m\u001b[1;33m+\u001b[0m\u001b[0mb\u001b[0m\u001b[1;33m\u001b[0m\u001b[1;33m\u001b[0m\u001b[0m\n\u001b[0m",
      "\u001b[1;31mTypeError\u001b[0m: unsupported operand type(s) for +: 'set' and 'set'"
     ]
    }
   ],
   "source": [
    "a+b"
   ]
  },
  {
   "cell_type": "code",
   "execution_count": 10,
   "metadata": {},
   "outputs": [
    {
     "data": {
      "text/plain": [
       "{1, 2, 3, 4, 5, 6}"
      ]
     },
     "execution_count": 10,
     "metadata": {},
     "output_type": "execute_result"
    }
   ],
   "source": [
    "a|b"
   ]
  },
  {
   "cell_type": "code",
   "execution_count": 11,
   "metadata": {},
   "outputs": [
    {
     "data": {
      "text/plain": [
       "{1}"
      ]
     },
     "execution_count": 11,
     "metadata": {},
     "output_type": "execute_result"
    }
   ],
   "source": [
    "a^b"
   ]
  },
  {
   "cell_type": "code",
   "execution_count": 12,
   "metadata": {},
   "outputs": [],
   "source": [
    "s={1,2,3,4,5}\n"
   ]
  },
  {
   "cell_type": "code",
   "execution_count": 13,
   "metadata": {},
   "outputs": [
    {
     "data": {
      "text/plain": [
       "{1, 2, 3, 4, 5}"
      ]
     },
     "execution_count": 13,
     "metadata": {},
     "output_type": "execute_result"
    }
   ],
   "source": [
    "s\n"
   ]
  },
  {
   "cell_type": "code",
   "execution_count": 14,
   "metadata": {},
   "outputs": [
    {
     "ename": "TypeError",
     "evalue": "'set' object is not subscriptable",
     "output_type": "error",
     "traceback": [
      "\u001b[1;31m---------------------------------------------------------------------------\u001b[0m",
      "\u001b[1;31mTypeError\u001b[0m                                 Traceback (most recent call last)",
      "\u001b[1;32m<ipython-input-14-c9c96910e542>\u001b[0m in \u001b[0;36m<module>\u001b[1;34m\u001b[0m\n\u001b[1;32m----> 1\u001b[1;33m \u001b[0ms\u001b[0m\u001b[1;33m[\u001b[0m\u001b[1;36m0\u001b[0m\u001b[1;33m]\u001b[0m\u001b[1;33m\u001b[0m\u001b[1;33m\u001b[0m\u001b[0m\n\u001b[0m",
      "\u001b[1;31mTypeError\u001b[0m: 'set' object is not subscriptable"
     ]
    }
   ],
   "source": [
    "s[0]"
   ]
  },
  {
   "cell_type": "code",
   "execution_count": 18,
   "metadata": {},
   "outputs": [],
   "source": [
    "s.add(6)"
   ]
  },
  {
   "cell_type": "code",
   "execution_count": 19,
   "metadata": {},
   "outputs": [
    {
     "data": {
      "text/plain": [
       "{1, 2, 3, 4, 5, 6}"
      ]
     },
     "execution_count": 19,
     "metadata": {},
     "output_type": "execute_result"
    }
   ],
   "source": [
    "s"
   ]
  },
  {
   "cell_type": "code",
   "execution_count": 20,
   "metadata": {},
   "outputs": [],
   "source": [
    "s.clear()"
   ]
  },
  {
   "cell_type": "code",
   "execution_count": 21,
   "metadata": {},
   "outputs": [
    {
     "data": {
      "text/plain": [
       "set()"
      ]
     },
     "execution_count": 21,
     "metadata": {},
     "output_type": "execute_result"
    }
   ],
   "source": [
    "s"
   ]
  },
  {
   "cell_type": "code",
   "execution_count": null,
   "metadata": {},
   "outputs": [],
   "source": [
    "\n",
    "\n"
   ]
  },
  {
   "cell_type": "code",
   "execution_count": 22,
   "metadata": {},
   "outputs": [],
   "source": [
    "a ={}\n",
    "\n"
   ]
  },
  {
   "cell_type": "code",
   "execution_count": 24,
   "metadata": {},
   "outputs": [
    {
     "data": {
      "text/plain": [
       "dict"
      ]
     },
     "execution_count": 24,
     "metadata": {},
     "output_type": "execute_result"
    }
   ],
   "source": [
    "type(a)"
   ]
  },
  {
   "cell_type": "code",
   "execution_count": 25,
   "metadata": {},
   "outputs": [
    {
     "data": {
      "text/plain": [
       "{}"
      ]
     },
     "execution_count": 25,
     "metadata": {},
     "output_type": "execute_result"
    }
   ],
   "source": [
    "a"
   ]
  },
  {
   "cell_type": "code",
   "execution_count": 26,
   "metadata": {},
   "outputs": [],
   "source": [
    "my_friends = {'A', 'B', 'C'}\n",
    "A_friends = {'B', 'C', 'D'}"
   ]
  },
  {
   "cell_type": "code",
   "execution_count": 27,
   "metadata": {},
   "outputs": [
    {
     "name": "stdout",
     "output_type": "stream",
     "text": [
      "{'B', 'C'}\n"
     ]
    }
   ],
   "source": [
    "print(my_friends & A_friends)"
   ]
  },
  {
   "cell_type": "code",
   "execution_count": 28,
   "metadata": {},
   "outputs": [],
   "source": [
    "f = ['apple', 'banna', 'orange', 'banana']"
   ]
  },
  {
   "cell_type": "code",
   "execution_count": 2,
   "metadata": {},
   "outputs": [
    {
     "ename": "NameError",
     "evalue": "name 'f' is not defined",
     "output_type": "error",
     "traceback": [
      "\u001b[1;31m---------------------------------------------------------------------------\u001b[0m",
      "\u001b[1;31mNameError\u001b[0m                                 Traceback (most recent call last)",
      "\u001b[1;32m<ipython-input-2-87dd8654c469>\u001b[0m in \u001b[0;36m<module>\u001b[1;34m\u001b[0m\n\u001b[1;32m----> 1\u001b[1;33m \u001b[0mkind\u001b[0m \u001b[1;33m=\u001b[0m \u001b[0mset\u001b[0m\u001b[1;33m(\u001b[0m\u001b[0mf\u001b[0m\u001b[1;33m)\u001b[0m\u001b[1;33m\u001b[0m\u001b[1;33m\u001b[0m\u001b[0m\n\u001b[0m",
      "\u001b[1;31mNameError\u001b[0m: name 'f' is not defined"
     ]
    }
   ],
   "source": [
    "kind = set(f)"
   ]
  },
  {
   "cell_type": "code",
   "execution_count": 3,
   "metadata": {},
   "outputs": [
    {
     "name": "stdout",
     "output_type": "stream",
     "text": [
      "False\n"
     ]
    }
   ],
   "source": [
    "a = 4\n",
    "b = 5\n",
    "print(a>b)"
   ]
  },
  {
   "cell_type": "code",
   "execution_count": 4,
   "metadata": {},
   "outputs": [
    {
     "name": "stdout",
     "output_type": "stream",
     "text": [
      "<class 'bool'>\n",
      "True\n"
     ]
    }
   ],
   "source": [
    "c = a>b\n",
    "c = True\n",
    "print(type(c))\n",
    "print(c)"
   ]
  },
  {
   "cell_type": "code",
   "execution_count": 5,
   "metadata": {},
   "outputs": [
    {
     "name": "stdout",
     "output_type": "stream",
     "text": [
      "9\n"
     ]
    }
   ],
   "source": [
    "a = 5\n",
    "b = 4\n",
    "print(a+b)"
   ]
  },
  {
   "cell_type": "code",
   "execution_count": 6,
   "metadata": {},
   "outputs": [
    {
     "name": "stdout",
     "output_type": "stream",
     "text": [
      "<class 'list'>\n",
      "<class 'tuple'>\n"
     ]
    }
   ],
   "source": [
    "a = [1, 2, 3]\n",
    "b = (1, 2, 3)\n",
    "print(type(a))\n",
    "print(type(b))"
   ]
  },
  {
   "cell_type": "code",
   "execution_count": 7,
   "metadata": {},
   "outputs": [
    {
     "name": "stdout",
     "output_type": "stream",
     "text": [
      "[100, 2, 3]\n"
     ]
    }
   ],
   "source": [
    "a[0] = 100\n",
    "print(a)"
   ]
  },
  {
   "cell_type": "code",
   "execution_count": 13,
   "metadata": {},
   "outputs": [
    {
     "name": "stdout",
     "output_type": "stream",
     "text": [
      "100 200 300 400\n"
     ]
    }
   ],
   "source": [
    "a, b, c, d = 100, 200, 300, 400\n",
    "print(a, b, c, d)"
   ]
  },
  {
   "cell_type": "code",
   "execution_count": 17,
   "metadata": {},
   "outputs": [
    {
     "name": "stdout",
     "output_type": "stream",
     "text": [
      "4 5\n"
     ]
    }
   ],
   "source": [
    "a = 5\n",
    "b = 4\n",
    "\n",
    "#logic\n",
    "# temp = a\n",
    "# a = b\n",
    "# b = temp\n",
    "a, b = b, a\n",
    "\n",
    "print(a, b)"
   ]
  },
  {
   "cell_type": "code",
   "execution_count": 19,
   "metadata": {},
   "outputs": [
    {
     "name": "stdout",
     "output_type": "stream",
     "text": [
      "0\n"
     ]
    }
   ],
   "source": [
    "a = [0, 1, 2, 3, 4, 5]\n",
    "print(a[0])"
   ]
  },
  {
   "cell_type": "code",
   "execution_count": 31,
   "metadata": {},
   "outputs": [
    {
     "name": "stdout",
     "output_type": "stream",
     "text": [
      "{'korea': 'seoul', 'canada': 'ottawa', 'usa': 'washinton d.c', 'japan': 'Tokyo'}\n",
      "6\n"
     ]
    }
   ],
   "source": [
    "a = {'korea': 'seoul',\n",
    "    'canada': 'ottawa',\n",
    "    'usa': 'washinton d.c'}\n",
    "a['japan']= 'Tokyo'\n",
    "print(a)\n",
    "b = {0:1, 1:6, 2:4, 7:9, 8:10}\n",
    "print(b[1])\n"
   ]
  },
  {
   "cell_type": "code",
   "execution_count": 33,
   "metadata": {},
   "outputs": [
    {
     "name": "stdout",
     "output_type": "stream",
     "text": [
      "{'a': 2, 'b': 2, 'c': 3, 'd': 5, 'e': 7}\n"
     ]
    }
   ],
   "source": [
    "a = {'a': 1, 'b' : 2, 'c' : 3, 'd': 4}\n",
    "b = {'a': 2, 'd' : 5, 'e': 7}\n",
    "a.update(b)\n",
    "print(a)"
   ]
  },
  {
   "cell_type": "code",
   "execution_count": 37,
   "metadata": {},
   "outputs": [
    {
     "name": "stdout",
     "output_type": "stream",
     "text": [
      "{'a': 1, 'b': 2, 'c': 3, 'd': 4}\n",
      "{'a': 1, 'c': 3}\n",
      "{}\n"
     ]
    }
   ],
   "source": [
    "a = {'a': 1, 'b' : 2, 'c' : 3, 'd': 4}\n",
    "print(a)\n",
    "\n",
    "a.pop('b')\n",
    "del a['d']\n",
    "print(a)\n",
    "a.clear()\n",
    "print(a)"
   ]
  },
  {
   "cell_type": "code",
   "execution_count": 43,
   "metadata": {},
   "outputs": [
    {
     "name": "stdout",
     "output_type": "stream",
     "text": [
      "{'a': 1, 'b': 2, 'c': 3, 'd': 4}\n",
      "True\n",
      "True\n"
     ]
    }
   ],
   "source": [
    "a = {'a': 1, 'b' : 2, 'c' : 3, 'd': 4}\n",
    "print(a)\n",
    "b = [1,2,3,4,54,5,6,6,7,100]\n",
    "print(100 in b)\n",
    "print('b' in a)"
   ]
  },
  {
   "cell_type": "code",
   "execution_count": 44,
   "metadata": {},
   "outputs": [
    {
     "name": "stdout",
     "output_type": "stream",
     "text": [
      "1 2\n",
      "2 4\n",
      "3 6\n",
      "4 8\n",
      "5 10\n",
      "6 12\n"
     ]
    }
   ],
   "source": [
    "a = [1,2,3,4,5,6]\n",
    "for i in a:\n",
    "    print (i, i * 2)"
   ]
  },
  {
   "cell_type": "code",
   "execution_count": 45,
   "metadata": {
    "collapsed": true
   },
   "outputs": [
    {
     "name": "stdout",
     "output_type": "stream",
     "text": [
      "h\n",
      "e\n",
      "l\n",
      "l\n",
      "j\n",
      "f\n",
      "l\n",
      "j\n",
      "f\n",
      "l\n",
      "d\n",
      "j\n",
      "f\n",
      "a\n"
     ]
    }
   ],
   "source": [
    "a = 'helljfljfldjfa'\n",
    "for ca in a:\n",
    "    print(ca)"
   ]
  },
  {
   "cell_type": "code",
   "execution_count": 48,
   "metadata": {},
   "outputs": [
    {
     "name": "stdout",
     "output_type": "stream",
     "text": [
      "sss\n",
      "20\n",
      "10\n",
      "14\n",
      "sss\n",
      "sss\n"
     ]
    }
   ],
   "source": [
    "a = [1, 20, 10, 14, 13, 7]\n",
    "for num in a:\n",
    "    if num % 2 == 0:\n",
    "        print(num)\n",
    "    else:\n",
    "        print(\"sss\")"
   ]
  },
  {
   "cell_type": "code",
   "execution_count": 53,
   "metadata": {},
   "outputs": [
    {
     "name": "stdout",
     "output_type": "stream",
     "text": [
      "korea seoul\n",
      "japan tyokyo\n",
      "canada ottawa\n"
     ]
    }
   ],
   "source": [
    "a = {'korea': 'seoul',  'japan': 'tyokyo', 'canada': 'ottawa'}\n",
    "for k in a:\n",
    "    print(k,a[k])"
   ]
  },
  {
   "cell_type": "code",
   "execution_count": 54,
   "metadata": {},
   "outputs": [
    {
     "name": "stdout",
     "output_type": "stream",
     "text": [
      "seoul\n",
      "tyokyo\n",
      "ottawa\n"
     ]
    }
   ],
   "source": [
    "for value in a.values():\n",
    "    print(value)"
   ]
  },
  {
   "cell_type": "code",
   "execution_count": 57,
   "metadata": {},
   "outputs": [
    {
     "name": "stdout",
     "output_type": "stream",
     "text": [
      "korea seoul\n",
      "japan tyokyo\n",
      "canada ottawa\n"
     ]
    }
   ],
   "source": [
    "for key, value in a.items():\n",
    "    print(key, value)\n",
    "    "
   ]
  },
  {
   "cell_type": "code",
   "execution_count": 62,
   "metadata": {},
   "outputs": [
    {
     "name": "stdout",
     "output_type": "stream",
     "text": [
      "5 45\n"
     ]
    }
   ],
   "source": [
    "a = [ 1,1,2,3,3,45]\n",
    "for index, num in enumerate(a):\n",
    "    if index > 4:\n",
    "        print(index, num)"
   ]
  },
  {
   "cell_type": "code",
   "execution_count": 65,
   "metadata": {
    "collapsed": true
   },
   "outputs": [
    {
     "name": "stdout",
     "output_type": "stream",
     "text": [
      "1 1 = 1\n",
      "1 2 = 2\n",
      "1 3 = 3\n",
      "1 4 = 4\n",
      "1 5 = 5\n",
      "1 6 = 6\n",
      "1 7 = 7\n",
      "1 8 = 8\n",
      "1 9 = 9\n",
      "2 1 = 2\n",
      "2 2 = 4\n",
      "2 3 = 6\n",
      "2 4 = 8\n",
      "2 5 = 10\n",
      "2 6 = 12\n",
      "2 7 = 14\n",
      "2 8 = 16\n",
      "2 9 = 18\n",
      "3 1 = 3\n",
      "3 2 = 6\n",
      "3 3 = 9\n",
      "3 4 = 12\n",
      "3 5 = 15\n",
      "3 6 = 18\n",
      "3 7 = 21\n",
      "3 8 = 24\n",
      "3 9 = 27\n",
      "4 1 = 4\n",
      "4 2 = 8\n",
      "4 3 = 12\n",
      "4 4 = 16\n",
      "4 5 = 20\n",
      "4 6 = 24\n",
      "4 7 = 28\n",
      "4 8 = 32\n",
      "4 9 = 36\n",
      "5 1 = 5\n",
      "5 2 = 10\n",
      "5 3 = 15\n",
      "5 4 = 20\n",
      "5 5 = 25\n",
      "5 6 = 30\n",
      "5 7 = 35\n",
      "5 8 = 40\n",
      "5 9 = 45\n",
      "6 1 = 6\n",
      "6 2 = 12\n",
      "6 3 = 18\n",
      "6 4 = 24\n",
      "6 5 = 30\n",
      "6 6 = 36\n",
      "6 7 = 42\n",
      "6 8 = 48\n",
      "6 9 = 54\n",
      "7 1 = 7\n",
      "7 2 = 14\n",
      "7 3 = 21\n",
      "7 4 = 28\n",
      "7 5 = 35\n",
      "7 6 = 42\n",
      "7 7 = 49\n",
      "7 8 = 56\n",
      "7 9 = 63\n",
      "8 1 = 8\n",
      "8 2 = 16\n",
      "8 3 = 24\n",
      "8 4 = 32\n",
      "8 5 = 40\n",
      "8 6 = 48\n",
      "8 7 = 56\n",
      "8 8 = 64\n",
      "8 9 = 72\n",
      "9 1 = 9\n",
      "9 2 = 18\n",
      "9 3 = 27\n",
      "9 4 = 36\n",
      "9 5 = 45\n",
      "9 6 = 54\n",
      "9 7 = 63\n",
      "9 8 = 72\n",
      "9 9 = 81\n"
     ]
    }
   ],
   "source": [
    "a = [1,2,3,4,5,6,7,8,9]\n",
    "b = [1,2,3,4,5,6,7,8,9]\n",
    "for i in a:\n",
    "    for j in b:\n",
    "        print(i, j, \"=\", i*j)"
   ]
  },
  {
   "cell_type": "code",
   "execution_count": 66,
   "metadata": {},
   "outputs": [
    {
     "name": "stdout",
     "output_type": "stream",
     "text": [
      "[1, 2, 3, 4, 5, 6, 7, 8, 9, 10, 11, 12, 13, 14, 15, 16, 17, 18, 19, 20, 21, 22, 23, 24, 25, 26, 27, 28, 29, 30, 31, 32, 33, 34, 35, 36, 37, 38, 39, 40, 41, 42, 43, 44, 45, 46, 47, 48, 49, 50, 51, 52, 53, 54, 55, 56, 57, 58, 59, 60, 61, 62, 63, 64, 65, 66, 67, 68, 69, 70, 71, 72, 73, 74, 75, 76, 77, 78, 79, 80, 81, 82, 83, 84, 85, 86, 87, 88, 89, 90, 91, 92, 93, 94, 95, 96, 97, 98, 99, 100]\n"
     ]
    }
   ],
   "source": [
    "a = list(range(1, 101))\n",
    "print(a)"
   ]
  },
  {
   "cell_type": "code",
   "execution_count": 67,
   "metadata": {
    "collapsed": true
   },
   "outputs": [
    {
     "data": {
      "text/plain": [
       "[5,\n",
       " 10,\n",
       " 15,\n",
       " 20,\n",
       " 25,\n",
       " 30,\n",
       " 35,\n",
       " 40,\n",
       " 45,\n",
       " 50,\n",
       " 55,\n",
       " 60,\n",
       " 65,\n",
       " 70,\n",
       " 75,\n",
       " 80,\n",
       " 85,\n",
       " 90,\n",
       " 95,\n",
       " 100]"
      ]
     },
     "execution_count": 67,
     "metadata": {},
     "output_type": "execute_result"
    }
   ],
   "source": [
    "list(range(5, 101, 5))"
   ]
  },
  {
   "cell_type": "code",
   "execution_count": 68,
   "metadata": {
    "collapsed": true
   },
   "outputs": [
    {
     "name": "stdout",
     "output_type": "stream",
     "text": [
      "2 1 2\n",
      "2 2 4\n",
      "2 3 6\n",
      "2 4 8\n",
      "2 5 10\n",
      "2 6 12\n",
      "2 7 14\n",
      "2 8 16\n",
      "2 9 18\n",
      "3 1 3\n",
      "3 2 6\n",
      "3 3 9\n",
      "3 4 12\n",
      "3 5 15\n",
      "3 6 18\n",
      "3 7 21\n",
      "3 8 24\n",
      "3 9 27\n",
      "4 1 4\n",
      "4 2 8\n",
      "4 3 12\n",
      "4 4 16\n",
      "4 5 20\n",
      "4 6 24\n",
      "4 7 28\n",
      "4 8 32\n",
      "4 9 36\n",
      "5 1 5\n",
      "5 2 10\n",
      "5 3 15\n",
      "5 4 20\n",
      "5 5 25\n",
      "5 6 30\n",
      "5 7 35\n",
      "5 8 40\n",
      "5 9 45\n",
      "6 1 6\n",
      "6 2 12\n",
      "6 3 18\n",
      "6 4 24\n",
      "6 5 30\n",
      "6 6 36\n",
      "6 7 42\n",
      "6 8 48\n",
      "6 9 54\n",
      "7 1 7\n",
      "7 2 14\n",
      "7 3 21\n",
      "7 4 28\n",
      "7 5 35\n",
      "7 6 42\n",
      "7 7 49\n",
      "7 8 56\n",
      "7 9 63\n",
      "8 1 8\n",
      "8 2 16\n",
      "8 3 24\n",
      "8 4 32\n",
      "8 5 40\n",
      "8 6 48\n",
      "8 7 56\n",
      "8 8 64\n",
      "8 9 72\n",
      "9 1 9\n",
      "9 2 18\n",
      "9 3 27\n",
      "9 4 36\n",
      "9 5 45\n",
      "9 6 54\n",
      "9 7 63\n",
      "9 8 72\n",
      "9 9 81\n"
     ]
    }
   ],
   "source": [
    "x = 2\n",
    "while x <=9:\n",
    "    y = 1\n",
    "    while y<= 9:\n",
    "        print(x, y, x*y)\n",
    "        y += 1\n",
    "    x += 1\n",
    "    "
   ]
  },
  {
   "cell_type": "code",
   "execution_count": 69,
   "metadata": {
    "collapsed": true
   },
   "outputs": [
    {
     "name": "stdout",
     "output_type": "stream",
     "text": [
      "2\n",
      "4\n",
      "6\n",
      "8\n",
      "10\n",
      "11\n",
      "12\n",
      "14\n",
      "16\n",
      "18\n",
      "20\n",
      "22\n",
      "24\n",
      "26\n",
      "28\n",
      "30\n",
      "32\n",
      "33\n",
      "34\n",
      "36\n",
      "38\n",
      "40\n",
      "42\n",
      "44\n",
      "46\n",
      "48\n",
      "50\n",
      "52\n",
      "54\n",
      "55\n",
      "56\n",
      "58\n",
      "60\n",
      "62\n",
      "64\n",
      "66\n",
      "68\n",
      "70\n",
      "72\n",
      "74\n",
      "76\n",
      "77\n",
      "78\n",
      "80\n",
      "82\n",
      "84\n",
      "86\n",
      "88\n",
      "90\n",
      "92\n",
      "94\n",
      "96\n",
      "98\n",
      "99\n",
      "100\n"
     ]
    }
   ],
   "source": [
    "nums = list(range(1,101))\n",
    "for x in nums:\n",
    "    if x % 2 == 0 or x % 11 == 0:\n",
    "        print(x)"
   ]
  },
  {
   "cell_type": "code",
   "execution_count": 4,
   "metadata": {},
   "outputs": [],
   "source": [
    "def add(x, y):\n",
    "    z = x + y\n",
    "    return z\n",
    "\n",
    "l = len([1, 2, 3])\n",
    "c = add(20, 300)\n",
    "    "
   ]
  },
  {
   "cell_type": "code",
   "execution_count": 6,
   "metadata": {},
   "outputs": [
    {
     "name": "stdout",
     "output_type": "stream",
     "text": [
      "3\n",
      "320\n"
     ]
    }
   ],
   "source": [
    "print(l)\n",
    "print(c)"
   ]
  },
  {
   "cell_type": "code",
   "execution_count": 11,
   "metadata": {},
   "outputs": [
    {
     "name": "stdout",
     "output_type": "stream",
     "text": [
      "39 40\n",
      "10 20\n"
     ]
    }
   ],
   "source": [
    "\n",
    "num1 = 10\n",
    "num2 = 20\n",
    "\n",
    "def test(num1, num2):\n",
    "    print(num1,num2)\n",
    "    return num1 + num2\n",
    "\n",
    "\n",
    "\n",
    "test(39, 40)\n",
    "print(num1, num2)\n",
    "    "
   ]
  },
  {
   "cell_type": "code",
   "execution_count": null,
   "metadata": {},
   "outputs": [],
   "source": []
  }
 ],
 "metadata": {
  "kernelspec": {
   "display_name": "Python 3",
   "language": "python",
   "name": "python3"
  },
  "language_info": {
   "codemirror_mode": {
    "name": "ipython",
    "version": 3
   },
   "file_extension": ".py",
   "mimetype": "text/x-python",
   "name": "python",
   "nbconvert_exporter": "python",
   "pygments_lexer": "ipython3",
   "version": "3.7.4"
  }
 },
 "nbformat": 4,
 "nbformat_minor": 2
}
